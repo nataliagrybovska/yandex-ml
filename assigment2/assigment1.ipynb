{
 "cells": [
  {
   "cell_type": "code",
   "execution_count": 250,
   "metadata": {},
   "outputs": [],
   "source": [
    "import pandas as pd\n",
    "import numpy as np\n",
    "import scipy.spatial.distance as ds\n",
    "import re\n"
   ]
  },
  {
   "cell_type": "code",
   "execution_count": null,
   "metadata": {},
   "outputs": [],
   "source": []
  },
  {
   "cell_type": "code",
   "execution_count": 259,
   "metadata": {},
   "outputs": [
    {
     "name": "stdout",
     "output_type": "stream",
     "text": [
      "In comparison to dogs, cats have not undergone major changes during the domestication process.\n",
      "\n",
      "Domestic cats are similar in size to the other members of the genus Felis, typically weighing between 4 and 5 kg (8.8 and 11.0 lb).\n",
      "\n",
      "In one, people deliberately tamed cats in a process of artificial selection, as they were useful predators of vermin.\n",
      "\n"
     ]
    }
   ],
   "source": [
    "file = open('sentences.txt', 'r')\n",
    "lines = file.readlines()\n",
    "\n",
    "lines_count = len(lines)\n",
    "unique_words = set()\n",
    "word_indexes = []\n",
    "\n",
    "\n",
    "for line in lines:\n",
    "    words = filter(lambda s: s != \"\", re.split('[^a-z]', line.lower()))\n",
    "    word_counts = {}\n",
    "    for word in words:\n",
    "        if word in word_counts:\n",
    "            word_counts[word] += 1\n",
    "        else:\n",
    "            word_counts[word] = 1\n",
    "        unique_words.add(word)\n",
    "    word_indexes.append(word_counts)\n",
    "    \n",
    "wordlist = list(unique_words)\n",
    "\n",
    "matrix = np.zeros((lines_count, len(unique_words)))\n",
    "\n",
    "\n",
    "for i in range(lines_count):\n",
    "    for j in range(len(unique_words)):\n",
    "        word = wordlist[j]\n",
    "\n",
    "        if word in word_indexes[i]:\n",
    "            matrix[i, j] = word_indexes[i][word]\n",
    "        \n",
    "distances = []\n",
    "for i in range(1, lines_count):\n",
    "    distances.append((ds.cosine(matrix[0, :], matrix[i, :]), i))\n",
    "        \n",
    "sorted_distances = sorted(distances, key=lambda tup: tup[0])       \n",
    "\n",
    "index1 = sorted_distances[0][1]\n",
    "index2 = sorted_distances[1][1]\n",
    "\n",
    "\n",
    "print lines[0]\n",
    "print lines[index1]\n",
    "print lines[index2]\n",
    "\n",
    "\n",
    "\n",
    "    "
   ]
  },
  {
   "cell_type": "code",
   "execution_count": 260,
   "metadata": {},
   "outputs": [
    {
     "name": "stdout",
     "output_type": "stream",
     "text": [
      "6 4\n"
     ]
    }
   ],
   "source": [
    "result_line = str(index1) + \" \" + str(index2)\n",
    "print result_line\n",
    "submission_file = open('submission1.txt', 'w')\n",
    "submission_file.write(result_line)\n",
    "\n",
    "submission_file.close()\n",
    "file.close()"
   ]
  },
  {
   "cell_type": "code",
   "execution_count": null,
   "metadata": {
    "collapsed": true
   },
   "outputs": [],
   "source": []
  },
  {
   "cell_type": "code",
   "execution_count": null,
   "metadata": {
    "collapsed": true
   },
   "outputs": [],
   "source": []
  }
 ],
 "metadata": {
  "kernelspec": {
   "display_name": "Python 2",
   "language": "python",
   "name": "python2"
  },
  "language_info": {
   "codemirror_mode": {
    "name": "ipython",
    "version": 2
   },
   "file_extension": ".py",
   "mimetype": "text/x-python",
   "name": "python",
   "nbconvert_exporter": "python",
   "pygments_lexer": "ipython2",
   "version": "2.7.13"
  }
 },
 "nbformat": 4,
 "nbformat_minor": 2
}
