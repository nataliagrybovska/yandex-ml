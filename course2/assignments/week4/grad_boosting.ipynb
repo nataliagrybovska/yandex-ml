{
 "cells": [
  {
   "cell_type": "markdown",
   "metadata": {},
   "source": [
    "# Градиентный бустинг своими руками\n",
    "\n",
    "**Внимание:** в тексте задания произошли изменения - поменялось число деревьев (теперь 50), правило изменения величины шага в задании 3 и добавился параметр `random_state` у решающего дерева. Правильные ответы не поменялись, но теперь их проще получить. Также исправлена опечатка в функции `gbm_predict`.\n",
    "\n",
    "В этом задании будет использоваться датасет `boston` из `sklearn.datasets`. Оставьте последние 25% объектов для контроля качества, разделив `X` и `y` на `X_train`, `y_train` и `X_test`, `y_test`.\n",
    "\n",
    "Целью задания будет реализовать простой вариант градиентного бустинга над регрессионными деревьями для случая квадратичной функции потерь."
   ]
  },
  {
   "cell_type": "code",
   "execution_count": 71,
   "metadata": {},
   "outputs": [],
   "source": [
    "from sklearn import ensemble, cross_validation, tree, datasets, metrics\n",
    "import numpy as np\n",
    "\n",
    "\n",
    "data = datasets.load_boston()\n",
    "\n",
    "X = data.data\n",
    "y = data.target\n",
    "\n",
    "train_size = int(round(0.75 * X.shape[0]))\n",
    "\n",
    "X_train, X_test = X[:train_size], X[train_size:]\n",
    "y_train, y_test = y[:train_size], y[train_size:]\n"
   ]
  },
  {
   "cell_type": "markdown",
   "metadata": {},
   "source": [
    "## Задание 1\n",
    "\n",
    "Как вы уже знаете из лекций, **бустинг** - это метод построения композиций базовых алгоритмов с помощью последовательного добавления к текущей композиции нового алгоритма с некоторым коэффициентом. \n",
    "\n",
    "Градиентный бустинг обучает каждый новый алгоритм так, чтобы он приближал антиградиент ошибки по ответам композиции на обучающей выборке. Аналогично минимизации функций методом градиентного спуска, в градиентном бустинге мы подправляем композицию, изменяя алгоритм в направлении антиградиента ошибки.\n",
    "\n",
    "Воспользуйтесь формулой из лекций, задающей ответы на обучающей выборке, на которые нужно обучать новый алгоритм (фактически это лишь чуть более подробно расписанный градиент от ошибки), и получите частный ее случай, если функция потерь `L` - квадрат отклонения ответа композиции `a(x)` от правильного ответа `y` на данном `x`.\n",
    "\n",
    "Если вы давно не считали производную самостоятельно, вам поможет таблица производных элементарных функций (которую несложно найти в интернете) и правило дифференцирования сложной функции. После дифференцирования квадрата у вас возникнет множитель 2 — т.к. нам все равно предстоит выбирать коэффициент, с которым будет добавлен новый базовый алгоритм, проигноируйте этот множитель при дальнейшем построении алгоритма."
   ]
  },
  {
   "cell_type": "code",
   "execution_count": 79,
   "metadata": {},
   "outputs": [],
   "source": [
    "def s(y, an):\n",
    "    return an - y\n",
    "\n",
    "def write_answer(name, answer):\n",
    "    with open(name + \".txt\", \"w\") as fout:\n",
    "        fout.write(str(answer))\n",
    "\n"
   ]
  },
  {
   "cell_type": "markdown",
   "metadata": {},
   "source": [
    "## Задание 2\n",
    "\n",
    "Заведите массив для объектов `DecisionTreeRegressor` (будем их использовать в качестве базовых алгоритмов) и для вещественных чисел (это будут коэффициенты перед базовыми алгоритмами). \n",
    "\n",
    "В цикле от обучите последовательно 50 решающих деревьев с параметрами `max_depth=5` и `random_state=42` (остальные параметры - по умолчанию). В бустинге зачастую используются сотни и тысячи деревьев, но мы ограничимся 50, чтобы алгоритм работал быстрее, и его было проще отлаживать (т.к. цель задания разобраться, как работает метод). Каждое дерево должно обучаться на одном и том же множестве объектов, но ответы, которые учится прогнозировать дерево, будут меняться в соответствие с полученным в задании 1 правилом. \n",
    "\n",
    "Попробуйте для начала всегда брать коэффициент равным 0.9. Обычно оправдано выбирать коэффициент значительно меньшим - порядка 0.05 или 0.1, но т.к. в нашем учебном примере на стандартном датасете будет всего 50 деревьев, возьмем для начала шаг побольше.\n",
    "\n",
    "В процессе реализации обучения вам потребуется функция, которая будет вычислять прогноз построенной на данный момент композиции деревьев на выборке `X`:\n",
    "\n",
    "```\n",
    "def gbm_predict(X):\n",
    "    return [sum([coeff * algo.predict([x])[0] for algo, coeff in zip(base_algorithms_list, coefficients_list)]) for x in X]\n",
    "(считаем, что base_algorithms_list - список с базовыми алгоритмами, coefficients_list - список с коэффициентами перед алгоритмами)\n",
    "```\n",
    "\n",
    "Эта же функция поможет вам получить прогноз на контрольной выборке и оценить качество работы вашего алгоритма с помощью `mean_squared_error` в `sklearn.metrics`. \n",
    "\n",
    "Возведите результат в степень 0.5, чтобы получить `RMSE`. Полученное значение `RMSE` — **ответ в пункте 2**."
   ]
  },
  {
   "cell_type": "code",
   "execution_count": 94,
   "metadata": {},
   "outputs": [
    {
     "name": "stdout",
     "output_type": "stream",
     "text": [
      "0 2.50352631579 iteration\n",
      "1 0.250352631579 iteration\n",
      "2 0.0250352631579 iteration\n",
      "3 0.00250352631579 iteration\n",
      "4 0.000250352631579 iteration\n",
      "5 2.5035263158e-05 iteration\n",
      "6 2.50352631528e-06 iteration\n",
      "7 2.50352631968e-07 iteration\n",
      "8 2.50352627985e-08 iteration\n",
      "9 2.50352583576e-09 iteration\n",
      "10 2.50352314318e-10 iteration\n",
      "11 2.5035744238e-11 iteration\n",
      "12 2.50333555055e-12 iteration\n",
      "13 2.50227908569e-13 iteration\n",
      "14 2.48035510259e-14 iteration\n",
      "15 2.2999146447e-15 iteration\n",
      "16 3.22549005049e-16 iteration\n",
      "17 -3.87993730711e-16 iteration\n",
      "18 1.30889451324e-16 iteration\n",
      "19 5.3290705182e-16 iteration\n",
      "20 2.0568342351e-16 iteration\n",
      "21 5.98351777482e-16 iteration\n",
      "22 -6.26399517052e-16 iteration\n",
      "23 -5.42256298343e-16 iteration\n",
      "24 1.86984930463e-17 iteration\n",
      "25 6.82494996191e-16 iteration\n",
      "26 -4.67462326158e-18 iteration\n",
      "27 -2.38405786341e-16 iteration\n",
      "28 -2.33731163079e-16 iteration\n",
      "29 4.4408920985e-16 iteration\n",
      "30 6.87169619452e-16 iteration\n",
      "31 3.36572874834e-16 iteration\n",
      "32 2.43080409602e-16 iteration\n",
      "33 1.49587944371e-16 iteration\n",
      "34 -2.43080409602e-16 iteration\n",
      "35 7.47939721853e-17 iteration\n",
      "36 1.21540204801e-16 iteration\n",
      "37 -2.33731163079e-16 iteration\n",
      "38 -8.41432187084e-17 iteration\n",
      "39 -1.07516335016e-16 iteration\n",
      "40 7.05868112499e-16 iteration\n",
      "41 4.25390716804e-16 iteration\n",
      "42 6.45098010098e-16 iteration\n",
      "43 4.48763833112e-16 iteration\n",
      "44 6.77820372929e-16 iteration\n",
      "45 4.02017600496e-16 iteration\n",
      "46 -3.69295237665e-16 iteration\n",
      "47 -1.16865581539e-16 iteration\n",
      "48 1.30889451324e-16 iteration\n",
      "mse 29.7621755559\n",
      "rmse 5.45547207453\n"
     ]
    }
   ],
   "source": [
    "from sklearn.tree import DecisionTreeRegressor\n",
    "\n",
    "\n",
    "base_algorithms_list = []\n",
    "coefficients_list = []\n",
    "\n",
    "\n",
    "def gbm_predict(X):\n",
    "    return [sum([coeff * algo.predict([x])[0] for algo, coeff in zip(base_algorithms_list, coefficients_list)]) for x in X]\n",
    "\n",
    "\n",
    "\n",
    "tree = DecisionTreeRegressor(max_depth=5, random_state=42)\n",
    "tree.fit(X_train, y_train)\n",
    "    \n",
    "base_algorithms_list.append(tree)\n",
    "coefficients_list.append(0.9)\n",
    "\n",
    "\n",
    "for i in range(0, 49):\n",
    "\n",
    "    tree = DecisionTreeRegressor(max_depth=5, random_state=42)\n",
    "\n",
    "    s = y_train - gbm_predict(X_train)\n",
    "    tree.fit(X_train, s)\n",
    "    \n",
    "    base_algorithms_list.append(tree)\n",
    "    coefficients_list.append(0.9)\n",
    "        \n",
    "    print i, s.mean(), \"iteration\"    \n",
    "\n",
    "\n",
    "y_predicted = gbm_predict(X_test)\n",
    "\n",
    "\n",
    "mse = metrics.mean_squared_error(y_test, y_predicted)\n",
    "\n",
    "print \"mse\", mse\n",
    "\n",
    "\n",
    "rmse = mse ** 0.5\n",
    "print \"rmse\", rmse\n",
    "    \n",
    "write_answer(\"2\", rmse)\n"
   ]
  },
  {
   "cell_type": "markdown",
   "metadata": {},
   "source": [
    "## Задание 3\n",
    "\n",
    "Вас может также беспокоить, что двигаясь с постоянным шагом, вблизи минимума ошибки ответы на обучающей выборке меняются слишком резко, перескакивая через минимум. \n",
    "\n",
    "Попробуйте уменьшать вес перед каждым алгоритмом с каждой следующей итерацией по формуле `0.9 / (1.0 + i)`, где `i` - номер итерации (от 0 до 49). Используйте качество работы алгоритма как **ответ в пункте 3**. \n",
    "\n",
    "В реальности часто применяется следующая стратегия выбора шага: как только выбран алгоритм, подберем коэффициент перед ним численным методом оптимизации таким образом, чтобы отклонение от правильных ответов было минимальным. Мы не будем предлагать вам реализовать это для выполнения задания, но рекомендуем попробовать разобраться с такой стратегией и реализовать ее при случае для себя."
   ]
  },
  {
   "cell_type": "code",
   "execution_count": 95,
   "metadata": {},
   "outputs": [
    {
     "name": "stdout",
     "output_type": "stream",
     "text": [
      "1 2.50352631579 0.45 iteration\n",
      "2 1.37693947368 0.3 iteration\n",
      "3 0.963857631579 0.225 iteration\n",
      "4 0.746989664474 0.18 iteration\n",
      "5 0.612531524868 0.15 iteration\n",
      "6 0.520651796138 0.128571428571 iteration\n",
      "7 0.45371085092 0.1125 iteration\n",
      "8 0.402668380192 0.1 iteration\n",
      "9 0.362401542173 0.09 iteration\n",
      "10 0.329785403377 0.0818181818182 iteration\n",
      "11 0.302802961283 0.075 iteration\n",
      "12 0.280092739186 0.0692307692308 iteration\n",
      "13 0.260701703397 0.0642857142857 iteration\n",
      "14 0.243942308178 0.06 iteration\n",
      "15 0.229305769688 0.05625 iteration\n",
      "16 0.216407320143 0.0529411764706 iteration\n",
      "17 0.204950462017 0.05 iteration\n",
      "18 0.194702938917 0.0473684210526 iteration\n",
      "19 0.185480168126 0.045 iteration\n",
      "20 0.17713356056 0.0428571428571 iteration\n",
      "21 0.16954212225 0.0409090909091 iteration\n",
      "22 0.162606308158 0.0391304347826 iteration\n",
      "23 0.156243452622 0.0375 iteration\n",
      "24 0.150384323148 0.036 iteration\n",
      "25 0.144970487515 0.0346153846154 iteration\n",
      "26 0.139952278332 0.0333333333333 iteration\n",
      "27 0.135287202387 0.0321428571429 iteration\n",
      "28 0.130938685168 0.0310344827586 iteration\n",
      "29 0.126875070801 0.03 iteration\n",
      "30 0.123068818677 0.0290322580645 iteration\n",
      "31 0.119495852973 0.028125 iteration\n",
      "32 0.116135032108 0.0272727272727 iteration\n",
      "33 0.112967713051 0.0264705882353 iteration\n",
      "34 0.109977391235 0.0257142857143 iteration\n",
      "35 0.107149401174 0.025 iteration\n",
      "36 0.104470666145 0.0243243243243 iteration\n",
      "37 0.101929487779 0.0236842105263 iteration\n",
      "38 0.0995153683319 0.0230769230769 iteration\n",
      "39 0.0972188598319 0.0225 iteration\n",
      "40 0.0950314354857 0.0219512195122 iteration\n",
      "41 0.0929453795848 0.0214285714286 iteration\n",
      "42 0.0909536928794 0.0209302325581 iteration\n",
      "43 0.0890500109354 0.0204545454545 iteration\n",
      "44 0.087228533439 0.02 iteration\n",
      "45 0.0854839627702 0.0195652173913 iteration\n",
      "46 0.0838114504551 0.0191489361702 iteration\n",
      "47 0.08220655034 0.01875 iteration\n",
      "48 0.0806651775212 0.0183673469388 iteration\n",
      "49 0.0791835722198 0.018 iteration\n",
      "mse2 27.4653828333\n",
      "rmse2 5.24074258415\n"
     ]
    }
   ],
   "source": [
    "from sklearn.tree import DecisionTreeRegressor\n",
    "\n",
    "\n",
    "base_algorithms_list = []\n",
    "coefficients_list = []\n",
    "\n",
    "\n",
    "def gbm_predict(X):\n",
    "    return [sum([coeff * algo.predict([x])[0] for algo, coeff in zip(base_algorithms_list, coefficients_list)]) for x in X]\n",
    "\n",
    "\n",
    "\n",
    "tree = DecisionTreeRegressor(max_depth=5, random_state=42)\n",
    "tree.fit(X_train, y_train)\n",
    "    \n",
    "base_algorithms_list.append(tree)\n",
    "coefficients_list.append(0.9)\n",
    "\n",
    "\n",
    "for i in range(1, 50):\n",
    "\n",
    "    tree = DecisionTreeRegressor(max_depth=5, random_state=42)\n",
    "\n",
    "    s = y_train - gbm_predict(X_train)\n",
    "    tree.fit(X_train, s)\n",
    "    \n",
    "    base_algorithms_list.append(tree)\n",
    "    coef = 0.9 / (1.0 + i)\n",
    "    coefficients_list.append(coef)\n",
    "        \n",
    "    print i, s.mean(), coef, \"iteration\"    \n",
    "\n",
    "\n",
    "y_predicted = gbm_predict(X_test)\n",
    "\n",
    "\n",
    "mse2 = metrics.mean_squared_error(y_test, y_predicted)\n",
    "\n",
    "print \"mse2\", mse2\n",
    "\n",
    "\n",
    "rmse2 = mse2 ** 0.5\n",
    "print \"rmse2\", rmse2\n",
    "    \n",
    "write_answer(\"3\", rmse2)"
   ]
  },
  {
   "cell_type": "markdown",
   "metadata": {},
   "source": [
    "## Задание 4\n",
    "\n",
    "Реализованный вами метод - градиентный бустинг над деревьями - очень популярен в машинном обучении. Он представлен как в самой библиотеке `sklearn`, так и в сторонней библиотеке `XGBoost`, которая имеет свой питоновский интерфейс. На практике `XGBoost` работает заметно лучше `GradientBoostingRegressor` из `sklearn`, но для этого задания вы можете использовать любую реализацию. \n",
    "\n",
    "Исследуйте, переобучается ли градиентный бустинг с ростом числа итераций (и подумайте, почему), а также с ростом глубины деревьев. На основе наблюдений выпишите через пробел номера правильных из приведенных ниже утверждений в порядке возрастания номера (это будет **ответ в п.4**):\n",
    "\n",
    "    1. С увеличением числа деревьев, начиная с некоторого момента, качество работы градиентного бустинга не меняется существенно.\n",
    "\n",
    "    2. С увеличением числа деревьев, начиная с некоторого момента, градиентный бустинг начинает переобучаться.\n",
    "\n",
    "    3. С ростом глубины деревьев, начиная с некоторого момента, качество работы градиентного бустинга на тестовой выборке начинает ухудшаться.\n",
    "\n",
    "    4. С ростом глубины деревьев, начиная с некоторого момента, качество работы градиентного бустинга перестает существенно изменяться"
   ]
  },
  {
   "cell_type": "code",
   "execution_count": 118,
   "metadata": {},
   "outputs": [
    {
     "name": "stdout",
     "output_type": "stream",
     "text": [
      "Populating the interactive namespace from numpy and matplotlib\n"
     ]
    },
    {
     "data": {
      "text/plain": [
       "[<matplotlib.lines.Line2D at 0x10d8efd50>]"
      ]
     },
     "execution_count": 118,
     "metadata": {},
     "output_type": "execute_result"
    },
    {
     "data": {
      "image/png": "[encoded data removed]",
      "text/plain": [
       "<matplotlib.figure.Figure at 0x10d8489d0>"
      ]
     },
     "metadata": {},
     "output_type": "display_data"
    },
    {
     "data": {
      "image/png": "[encoded data removed]",
      "text/plain": [
       "<matplotlib.figure.Figure at 0x10d196710>"
      ]
     },
     "metadata": {},
     "output_type": "display_data"
    }
   ],
   "source": [
    "from sklearn.model_selection import cross_val_score\n",
    "%pylab inline\n",
    "\n",
    "def score(estimator):\n",
    "    return cross_val_score(estimator, X_train, y_train, cv=10).mean()\n",
    "\n",
    "\n",
    "n_estimators_range = range(1, 100, 5)\n",
    "max_depth_range = range(2, 60, 5)\n",
    "\n",
    "y1 = [score(ensemble.GradientBoostingRegressor(n_estimators=n)) for n in n_estimators_range]\n",
    "y2 = [score(ensemble.GradientBoostingRegressor(max_depth=n)) for n in max_depth_range]\n",
    "\n",
    "\n",
    "pylab.grid(True)\n",
    "\n",
    "pylab.figure(0)\n",
    "pylab.plot(n_estimators_range, y1, 'g-', marker='o', label='n_estimators')\n",
    "\n",
    "pylab.figure(1)\n",
    "pylab.plot(max_depth_range, y2, 'g-', marker='o', label='max_depth')\n",
    "\n"
   ]
  },
  {
   "cell_type": "code",
   "execution_count": 119,
   "metadata": {},
   "outputs": [],
   "source": [
    "write_answer(\"4\", \"2 3\")"
   ]
  },
  {
   "cell_type": "markdown",
   "metadata": {},
   "source": [
    "## Задание 5\n",
    "\n",
    "Сравните получаемое с помощью градиентного бустинга качество с качеством работы линейной регрессии. \n",
    "\n",
    "Для этого обучите `LinearRegression` из `sklearn.linear_model` (с параметрами по умолчанию) на обучающей выборке и оцените для прогнозов полученного алгоритма на тестовой выборке `RMSE`. Полученное качество - ответ в **пункте 5**. \n",
    "\n",
    "В данном примере качество работы простой модели должно было оказаться хуже, но не стоит забывать, что так бывает не всегда. В заданиях к этому курсу вы еще встретите пример обратной ситуации."
   ]
  },
  {
   "cell_type": "code",
   "execution_count": 112,
   "metadata": {},
   "outputs": [
    {
     "name": "stdout",
     "output_type": "stream",
     "text": [
      "mse5 61.5930157324\n",
      "rmse5 7.84812179648\n"
     ]
    }
   ],
   "source": [
    "from sklearn import linear_model\n",
    "\n",
    "lmodel = linear_model.LinearRegression()\n",
    "lmodel.fit(X_train, y_train)\n",
    "\n",
    "y_predicted = lmodel.predict(X_test)\n",
    "\n",
    "mse5 = metrics.mean_squared_error(y_test, y_predicted)\n",
    "rmse5 = mse5 ** 0.5\n",
    "\n",
    "print \"mse5\", mse5\n",
    "print \"rmse5\", rmse5\n",
    "\n",
    "write_answer(\"5\", rmse5)"
   ]
  },
  {
   "cell_type": "code",
   "execution_count": null,
   "metadata": {},
   "outputs": [],
   "source": []
  }
 ],
 "metadata": {
  "kernelspec": {
   "display_name": "Python 2",
   "language": "python",
   "name": "python2"
  },
  "language_info": {
   "codemirror_mode": {
    "name": "ipython",
    "version": 2
   },
   "file_extension": ".py",
   "mimetype": "text/x-python",
   "name": "python",
   "nbconvert_exporter": "python",
   "pygments_lexer": "ipython2",
   "version": "2.7.10"
  }
 },
 "nbformat": 4,
 "nbformat_minor": 1
}
