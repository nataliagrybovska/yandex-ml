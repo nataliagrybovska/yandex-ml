{
 "cells": [
  {
   "cell_type": "code",
   "execution_count": 40,
   "metadata": {},
   "outputs": [
    {
     "name": "stdout",
     "output_type": "stream",
     "text": [
      "X.shape (1797, 64)\n",
      "y.shape (1797,)\n",
      "X_train.shape (1348, 64)\n",
      "y_train.shape (1348,)\n",
      "X_test.shape (449, 64)\n",
      "y_test.shape (449,)\n"
     ]
    }
   ],
   "source": [
    "from sklearn import ensemble, cross_validation, tree, datasets, metrics\n",
    "import numpy as np\n",
    "from sklearn.metrics import accuracy_score\n",
    "\n",
    "data = datasets.load_digits()\n",
    "\n",
    "X = data.data\n",
    "y = data.target\n",
    "\n",
    "train_size = int(round(0.75 * X.shape[0]))\n",
    "\n",
    "X_train, X_test = X[:train_size], X[train_size:]\n",
    "y_train, y_test = y[:train_size], y[train_size:]\n",
    "\n",
    "\n",
    "print \"X.shape\", X.shape\n",
    "print \"y.shape\", y.shape\n",
    "\n",
    "print \"X_train.shape\", X_train.shape\n",
    "print \"y_train.shape\", y_train.shape\n",
    "\n",
    "print \"X_test.shape\", X_test.shape\n",
    "print \"y_test.shape\", y_test.shape"
   ]
  },
  {
   "cell_type": "code",
   "execution_count": 41,
   "metadata": {},
   "outputs": [],
   "source": [
    "def write_answer(name, answer):\n",
    "    with open(name + \".txt\", \"w\") as fout:\n",
    "        fout.write(str(answer))"
   ]
  },
  {
   "cell_type": "code",
   "execution_count": 42,
   "metadata": {},
   "outputs": [
    {
     "name": "stdout",
     "output_type": "stream",
     "text": [
      "Answer1 0.0378619153675\n"
     ]
    }
   ],
   "source": [
    "def k_means(v, X, y): \n",
    "    metrics = np.array([((x - v)**2).sum() for x in X])\n",
    "    pairs = zip(metrics, y)\n",
    "    closest = sorted(pairs, key=lambda x: x[0])[0]\n",
    "    return closest[1]\n",
    "\n",
    "y_pred =np.array([k_means(x, X_train, y_train) for x in X_test])\n",
    "\n",
    "answer1 = 1 - accuracy_score(y_test,y_pred)\n",
    "\n",
    "\n",
    "print \"Answer1\", answer1\n",
    "write_answer(\"1\", answer1)"
   ]
  },
  {
   "cell_type": "code",
   "execution_count": 44,
   "metadata": {},
   "outputs": [
    {
     "name": "stdout",
     "output_type": "stream",
     "text": [
      "Answer2 0.0601336302895\n"
     ]
    }
   ],
   "source": [
    "rf_classifier = ensemble.RandomForestClassifier(n_estimators = 1000)\n",
    "rf_classifier.fit(X_train, y_train)\n",
    "\n",
    "y_pred_rf = rf_classifier.predict(X_test)\n",
    "\n",
    "answer2 = 1 - accuracy_score(y_test,y_pred_rf)\n",
    "\n",
    "\n",
    "print \"Answer2\", answer2\n",
    "write_answer(\"2\", answer2)"
   ]
  },
  {
   "cell_type": "code",
   "execution_count": null,
   "metadata": {},
   "outputs": [],
   "source": []
  }
 ],
 "metadata": {
  "kernelspec": {
   "display_name": "Python 2",
   "language": "python",
   "name": "python2"
  },
  "language_info": {
   "codemirror_mode": {
    "name": "ipython",
    "version": 2
   },
   "file_extension": ".py",
   "mimetype": "text/x-python",
   "name": "python",
   "nbconvert_exporter": "python",
   "pygments_lexer": "ipython2",
   "version": "2.7.10"
  }
 },
 "nbformat": 4,
 "nbformat_minor": 2
}
