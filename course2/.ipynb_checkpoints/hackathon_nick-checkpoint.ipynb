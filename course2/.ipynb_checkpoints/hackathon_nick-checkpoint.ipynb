{
 "cells": [
  {
   "cell_type": "code",
   "execution_count": 130,
   "metadata": {},
   "outputs": [],
   "source": [
    "import pandas as pd\n",
    "from sklearn.cluster import KMeans\n",
    "import numpy as np\n",
    "from sklearn.externals import joblib"
   ]
  },
  {
   "cell_type": "code",
   "execution_count": 131,
   "metadata": {},
   "outputs": [],
   "source": [
    "def video_subgenres(video_id):\n",
    "    video_subgenres = video_data[video_data['Xid'] == video_id].Subgenres_list.values\n",
    "    if video_subgenres.size == 0:\n",
    "        return set()\n",
    "    else:\n",
    "        sgs = [s.strip(\"''\").lower() for s in video_subgenres[0].strip(\"[]\").split(\", \")]\n",
    "        return set(sgs)\n",
    "\n",
    "\n",
    "def user_subgenres(liked_videos):  \n",
    "    subgenres = set()\n",
    "    for video_id in liked_videos:\n",
    "        subgenres = subgenres.union(video_subgenres(video_id))\n",
    "    return subgenres\n",
    "  \n",
    "    \n",
    "def user_vector(slist, sliked):\n",
    "    vector = np.zeros(len(slist))\n",
    "    for (index, subgenre) in enumerate(slist):\n",
    "        if(subgenre in sliked):\n",
    "            vector[index] = 1\n",
    "    return vector\n",
    "\n",
    "\n",
    "def normalize_vector(user_vector):\n",
    "    n = np.count_nonzero(user_vector)\n",
    "    return [d / n for d in user_vector]\n",
    "\n",
    "def write_output(cluster):\n",
    "    if cluster == -1:\n",
    "        filename = \"playlists/\" + \"zero_likes\" + \"_playlist.tsv\"\n",
    "    else:\n",
    "        filename = \"playlists/\" + str(cluster) + \"_playlist.tsv\"       \n",
    "    data = pd.read_csv(filename, sep = '\\t', names = ['artist', 'title', 'url'])\n",
    "    data.to_json('output.json', orient = 'records')\n",
    "    \n",
    "def read_user_likes(filename):\n",
    "    input_pd = pd.read_json(filename)\n",
    "    return list(input_pd[input_pd['rating'] == 1]['item_id'].values)"
   ]
  },
  {
   "cell_type": "code",
   "execution_count": 134,
   "metadata": {},
   "outputs": [
    {
     "name": "stdout",
     "output_type": "stream",
     "text": [
      "Subgenre list:\n",
      "['alternative rock', 'alternative/indie general', 'blues general', 'classic rock', 'country general', 'dance pop', 'dancehall', 'edm', 'funk', 'hard rock/metal general', 'house', 'indie pop', 'jazz general', 'latin general', 'pop general', 'punk', 'r&b/soul general', 'rap/hip-hop general', 'rock general', 'trap']\n"
     ]
    }
   ],
   "source": [
    "Subgenre_list = [\n",
    "    'alternative rock', \n",
    "    'alternative/indie general', \n",
    "    'blues general', \n",
    "    'classic rock', \n",
    "    'country general', \n",
    "    'dance pop', \n",
    "    'dancehall', \n",
    "    'edm', \n",
    "    'funk', \n",
    "    'hard rock/metal general', \n",
    "    'house', \n",
    "    'indie pop', \n",
    "    'jazz general', \n",
    "    'latin general', \n",
    "    'pop general', \n",
    "    'punk', \n",
    "    'r&b/soul general', \n",
    "    'rap/hip-hop general', \n",
    "    'rock general', \n",
    "    'trap'\n",
    "]\n",
    "\n",
    "video_data = pd.read_csv(\"video_data_reduced.csv\")\n",
    "model = joblib.load('kmeans.pkl') \n",
    "\n",
    "print 'Subgenre list:'\n",
    "print Subgenre_list  "
   ]
  },
  {
   "cell_type": "code",
   "execution_count": 139,
   "metadata": {},
   "outputs": [
    {
     "name": "stdout",
     "output_type": "stream",
     "text": [
      "User likes: [558629, 862827, 865279, 870140, 843745, 842781, 862565, 862098]\n",
      "User likes intersection: 1\n",
      "User liked subgenres:\n",
      "set(['classic rock'])\n",
      "User vector:\n",
      "[ 0.  0.  0.  1.  0.  0.  0.  0.  0.  0.  0.  0.  0.  0.  0.  0.  0.  0.\n",
      "  0.  0.]\n",
      "Normalized vector:\n",
      "[[ 0.  0.  0.  1.  0.  0.  0.  0.  0.  0.  0.  0.  0.  0.  0.  0.  0.  0.\n",
      "   0.  0.]]\n",
      "Prediction:\n",
      "1\n",
      "Writing output...\n",
      "DONE\n",
      "СДЕЛАНО\n"
     ]
    }
   ],
   "source": [
    "user_liked_videos = read_user_likes(\"quiz.json\")\n",
    "\n",
    "\n",
    "if(user_liked_videos == []):\n",
    "    write_output(-1)\n",
    "    raise ValueError(\"No liked videos\")\n",
    "     \n",
    "\n",
    "print 'User likes:', user_liked_videos\n",
    "print 'User likes intersection:', video_data[video_data['Xid'].isin(user_liked_videos)].shape[0]\n",
    "\n",
    "user_liked_subgenres = user_subgenres(user_liked_videos)\n",
    "\n",
    "print 'User liked subgenres:'\n",
    "print user_liked_subgenres\n",
    "\n",
    "\n",
    "print 'User vector:'\n",
    "vector = user_vector(Subgenre_list, user_liked_subgenres)\n",
    "print vector\n",
    "\n",
    "print 'Normalized vector:'\n",
    "normalized_vector = np.array(normalize_vector(vector)).reshape(1, -1)\n",
    "\n",
    "\n",
    "print normalized_vector\n",
    "\n",
    "cluster = model.predict(normalized_vector)[0]\n",
    "print 'Prediction:'\n",
    "print cluster\n",
    "\n",
    "print 'Writing output...'\n",
    "write_output(cluster)\n",
    "print 'DONE'\n",
    "print 'СДЕЛАНО'"
   ]
  },
  {
   "cell_type": "code",
   "execution_count": null,
   "metadata": {},
   "outputs": [],
   "source": []
  }
 ],
 "metadata": {
  "kernelspec": {
   "display_name": "Python 2",
   "language": "python",
   "name": "python2"
  },
  "language_info": {
   "codemirror_mode": {
    "name": "ipython",
    "version": 2
   },
   "file_extension": ".py",
   "mimetype": "text/x-python",
   "name": "python",
   "nbconvert_exporter": "python",
   "pygments_lexer": "ipython2",
   "version": "2.7.10"
  }
 },
 "nbformat": 4,
 "nbformat_minor": 2
}
