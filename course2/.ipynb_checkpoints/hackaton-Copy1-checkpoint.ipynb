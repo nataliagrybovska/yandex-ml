{
 "cells": [
  {
   "cell_type": "code",
   "execution_count": 314,
   "metadata": {},
   "outputs": [
    {
     "name": "stdout",
     "output_type": "stream",
     "text": [
      "\n"
     ]
    }
   ],
   "source": [
    "import pandas as pd\n",
    "from sklearn.cluster import KMeans\n",
    "import numpy as np\n",
    "import matplotlib.pyplot as plt\n",
    "import seaborn as sns\n",
    "%matplotlib inline"
   ]
  },
  {
   "cell_type": "markdown",
   "metadata": {},
   "source": [
    "# Importing data"
   ]
  },
  {
   "cell_type": "code",
   "execution_count": 326,
   "metadata": {},
   "outputs": [
    {
     "data": {
      "text/html": [
       "<div>\n",
       "<style>\n",
       "    .dataframe thead tr:only-child th {\n",
       "        text-align: right;\n",
       "    }\n",
       "\n",
       "    .dataframe thead th {\n",
       "        text-align: left;\n",
       "    }\n",
       "\n",
       "    .dataframe tbody tr th {\n",
       "        vertical-align: top;\n",
       "    }\n",
       "</style>\n",
       "<table border=\"1\" class=\"dataframe\">\n",
       "  <thead>\n",
       "    <tr style=\"text-align: right;\">\n",
       "      <th></th>\n",
       "      <th>Unnamed: 0</th>\n",
       "      <th>Xid</th>\n",
       "      <th>Artist</th>\n",
       "      <th>Title</th>\n",
       "      <th>ISRC</th>\n",
       "      <th>First_Release_Date</th>\n",
       "      <th>Origin</th>\n",
       "      <th>Duration</th>\n",
       "      <th>Genre_list</th>\n",
       "      <th>Subgenres_list</th>\n",
       "      <th>Urgency</th>\n",
       "    </tr>\n",
       "  </thead>\n",
       "  <tbody>\n",
       "    <tr>\n",
       "      <th>0</th>\n",
       "      <td>0</td>\n",
       "      <td>838428</td>\n",
       "      <td>Charlotte Church</td>\n",
       "      <td>Call My Name</td>\n",
       "      <td>GB1100501260</td>\n",
       "      <td>2005</td>\n",
       "      <td>GB</td>\n",
       "      <td>177.746</td>\n",
       "      <td>Pop</td>\n",
       "      <td>['Pop General']</td>\n",
       "      <td>Non-relevant</td>\n",
       "    </tr>\n",
       "    <tr>\n",
       "      <th>1</th>\n",
       "      <td>1</td>\n",
       "      <td>875706</td>\n",
       "      <td>Aesop Rock</td>\n",
       "      <td>Hot Dogs</td>\n",
       "      <td>USBWK1790044</td>\n",
       "      <td>2017</td>\n",
       "      <td>US</td>\n",
       "      <td>194.761</td>\n",
       "      <td>Hip Hop</td>\n",
       "      <td>['Rap/Hip-Hop General']</td>\n",
       "      <td>Recognizable</td>\n",
       "    </tr>\n",
       "    <tr>\n",
       "      <th>2</th>\n",
       "      <td>2</td>\n",
       "      <td>870474</td>\n",
       "      <td>XITE Top 20</td>\n",
       "      <td>Nr. 17 Week 38 NL</td>\n",
       "      <td>NaN</td>\n",
       "      <td>NaN</td>\n",
       "      <td>NaN</td>\n",
       "      <td>11.832</td>\n",
       "      <td>Other</td>\n",
       "      <td>[]</td>\n",
       "      <td>NaN</td>\n",
       "    </tr>\n",
       "    <tr>\n",
       "      <th>3</th>\n",
       "      <td>3</td>\n",
       "      <td>872756</td>\n",
       "      <td>Rosario</td>\n",
       "      <td>Te Lo Juro Yo</td>\n",
       "      <td>ES1029900087</td>\n",
       "      <td>1999</td>\n",
       "      <td>ES</td>\n",
       "      <td>184.639</td>\n",
       "      <td>Pop</td>\n",
       "      <td>['Latin Pop', 'Flamenco Pop']</td>\n",
       "      <td>Non-relevant</td>\n",
       "    </tr>\n",
       "    <tr>\n",
       "      <th>4</th>\n",
       "      <td>4</td>\n",
       "      <td>872757</td>\n",
       "      <td>Adoração Central</td>\n",
       "      <td>Inesquecível [Live]</td>\n",
       "      <td>BRGG91400017</td>\n",
       "      <td>2017</td>\n",
       "      <td>BR</td>\n",
       "      <td>313.082</td>\n",
       "      <td>Pop</td>\n",
       "      <td>['Latin Christian Pop', 'Praise &amp; Worship']</td>\n",
       "      <td>Non-relevant</td>\n",
       "    </tr>\n",
       "  </tbody>\n",
       "</table>\n",
       "</div>"
      ],
      "text/plain": [
       "   Unnamed: 0     Xid            Artist                Title          ISRC  \\\n",
       "0           0  838428  Charlotte Church         Call My Name  GB1100501260   \n",
       "1           1  875706        Aesop Rock             Hot Dogs  USBWK1790044   \n",
       "2           2  870474       XITE Top 20    Nr. 17 Week 38 NL           NaN   \n",
       "3           3  872756           Rosario        Te Lo Juro Yo  ES1029900087   \n",
       "4           4  872757  Adoração Central  Inesquecível [Live]  BRGG91400017   \n",
       "\n",
       "  First_Release_Date Origin  Duration Genre_list  \\\n",
       "0               2005     GB   177.746        Pop   \n",
       "1               2017     US   194.761    Hip Hop   \n",
       "2                NaN    NaN    11.832      Other   \n",
       "3               1999     ES   184.639        Pop   \n",
       "4               2017     BR   313.082        Pop   \n",
       "\n",
       "                                Subgenres_list       Urgency  \n",
       "0                              ['Pop General']  Non-relevant  \n",
       "1                      ['Rap/Hip-Hop General']  Recognizable  \n",
       "2                                           []           NaN  \n",
       "3                ['Latin Pop', 'Flamenco Pop']  Non-relevant  \n",
       "4  ['Latin Christian Pop', 'Praise & Worship']  Non-relevant  "
      ]
     },
     "execution_count": 326,
     "metadata": {},
     "output_type": "execute_result"
    }
   ],
   "source": [
    "video_data = pd.read_csv(\"cleaned_set/entire_music_library-cleaned.csv\", sep = \",\", header = 0)\n",
    "\n",
    "\n",
    "video_data.head(5)"
   ]
  },
  {
   "cell_type": "code",
   "execution_count": 22,
   "metadata": {},
   "outputs": [
    {
     "data": {
      "text/html": [
       "<div>\n",
       "<style>\n",
       "    .dataframe thead tr:only-child th {\n",
       "        text-align: right;\n",
       "    }\n",
       "\n",
       "    .dataframe thead th {\n",
       "        text-align: left;\n",
       "    }\n",
       "\n",
       "    .dataframe tbody tr th {\n",
       "        vertical-align: top;\n",
       "    }\n",
       "</style>\n",
       "<table border=\"1\" class=\"dataframe\">\n",
       "  <thead>\n",
       "    <tr style=\"text-align: right;\">\n",
       "      <th></th>\n",
       "      <th>email</th>\n",
       "      <th>gender</th>\n",
       "      <th>birth_date</th>\n",
       "      <th>subscription_date</th>\n",
       "    </tr>\n",
       "  </thead>\n",
       "  <tbody>\n",
       "    <tr>\n",
       "      <th>0</th>\n",
       "      <td>1005133@leerling.tabor.nl</td>\n",
       "      <td>male</td>\n",
       "      <td>1997-02-01</td>\n",
       "      <td>2017-02-01</td>\n",
       "    </tr>\n",
       "    <tr>\n",
       "      <th>1</th>\n",
       "      <td>1005209@wiringherlant.nl</td>\n",
       "      <td>male</td>\n",
       "      <td>1997-02-01</td>\n",
       "      <td>2017-02-01</td>\n",
       "    </tr>\n",
       "    <tr>\n",
       "      <th>2</th>\n",
       "      <td>10076247@edu.regiocollege.nl</td>\n",
       "      <td>male</td>\n",
       "      <td>1997-02-01</td>\n",
       "      <td>2017-02-01</td>\n",
       "    </tr>\n",
       "    <tr>\n",
       "      <th>3</th>\n",
       "      <td>1111@lu.qa</td>\n",
       "      <td>male</td>\n",
       "      <td>1997-02-01</td>\n",
       "      <td>2017-02-01</td>\n",
       "    </tr>\n",
       "    <tr>\n",
       "      <th>4</th>\n",
       "      <td>077055@wellant.nl</td>\n",
       "      <td>male</td>\n",
       "      <td>1997-02-01</td>\n",
       "      <td>2017-02-01</td>\n",
       "    </tr>\n",
       "  </tbody>\n",
       "</table>\n",
       "</div>"
      ],
      "text/plain": [
       "                          email gender  birth_date subscription_date\n",
       "0     1005133@leerling.tabor.nl   male  1997-02-01        2017-02-01\n",
       "1      1005209@wiringherlant.nl   male  1997-02-01        2017-02-01\n",
       "2  10076247@edu.regiocollege.nl   male  1997-02-01        2017-02-01\n",
       "3                    1111@lu.qa   male  1997-02-01        2017-02-01\n",
       "4             077055@wellant.nl   male  1997-02-01        2017-02-01"
      ]
     },
     "execution_count": 22,
     "metadata": {},
     "output_type": "execute_result"
    }
   ],
   "source": [
    "user_data = pd.read_csv(\"cleaned_set/user_export.csv\", sep = \",\", header = 0)\n",
    "user_data.head(5)\n"
   ]
  },
  {
   "cell_type": "code",
   "execution_count": 36,
   "metadata": {},
   "outputs": [
    {
     "data": {
      "text/html": [
       "<div>\n",
       "<style>\n",
       "    .dataframe thead tr:only-child th {\n",
       "        text-align: right;\n",
       "    }\n",
       "\n",
       "    .dataframe thead th {\n",
       "        text-align: left;\n",
       "    }\n",
       "\n",
       "    .dataframe tbody tr th {\n",
       "        vertical-align: top;\n",
       "    }\n",
       "</style>\n",
       "<table border=\"1\" class=\"dataframe\">\n",
       "  <thead>\n",
       "    <tr style=\"text-align: right;\">\n",
       "      <th></th>\n",
       "      <th>deviceId</th>\n",
       "      <th>videoId</th>\n",
       "      <th>channelId</th>\n",
       "      <th>deviceSessionId</th>\n",
       "      <th>userId</th>\n",
       "      <th>userSessionId</th>\n",
       "      <th>duration</th>\n",
       "      <th>action</th>\n",
       "      <th>isFavorites</th>\n",
       "      <th>timestamp</th>\n",
       "      <th>id</th>\n",
       "      <th>playbackPercentage</th>\n",
       "    </tr>\n",
       "  </thead>\n",
       "  <tbody>\n",
       "    <tr>\n",
       "      <th>0</th>\n",
       "      <td>eb24cc8baf45eaf321ef6551aa6f06a1</td>\n",
       "      <td>820829</td>\n",
       "      <td>1.453908e+12</td>\n",
       "      <td>4582538345287628</td>\n",
       "      <td>NaN</td>\n",
       "      <td>NaN</td>\n",
       "      <td>232000</td>\n",
       "      <td>play</td>\n",
       "      <td>False</td>\n",
       "      <td>2017-04-01 00:32:41</td>\n",
       "      <td>4583625468565279</td>\n",
       "      <td>NaN</td>\n",
       "    </tr>\n",
       "    <tr>\n",
       "      <th>1</th>\n",
       "      <td>09dab4969acfc66caab207e4c1f4a004</td>\n",
       "      <td>505822</td>\n",
       "      <td>1.453908e+12</td>\n",
       "      <td>4579180610083018</td>\n",
       "      <td>wesleylambregts@hotmail.com</td>\n",
       "      <td>4.580594e+15</td>\n",
       "      <td>14333</td>\n",
       "      <td>skip</td>\n",
       "      <td>False</td>\n",
       "      <td>2017-04-01 00:32:43</td>\n",
       "      <td>4583627245619107</td>\n",
       "      <td>NaN</td>\n",
       "    </tr>\n",
       "    <tr>\n",
       "      <th>2</th>\n",
       "      <td>09dab4969acfc66caab207e4c1f4a004</td>\n",
       "      <td>697511</td>\n",
       "      <td>1.453908e+12</td>\n",
       "      <td>4579180610083018</td>\n",
       "      <td>wesleylambregts@hotmail.com</td>\n",
       "      <td>4.580594e+15</td>\n",
       "      <td>5178</td>\n",
       "      <td>skip</td>\n",
       "      <td>False</td>\n",
       "      <td>2017-04-01 00:34:10</td>\n",
       "      <td>4583714238685427</td>\n",
       "      <td>NaN</td>\n",
       "    </tr>\n",
       "    <tr>\n",
       "      <th>3</th>\n",
       "      <td>09dab4969acfc66caab207e4c1f4a004</td>\n",
       "      <td>712924</td>\n",
       "      <td>1.453908e+12</td>\n",
       "      <td>4579180610083018</td>\n",
       "      <td>wesleylambregts@hotmail.com</td>\n",
       "      <td>4.580594e+15</td>\n",
       "      <td>7247</td>\n",
       "      <td>skip</td>\n",
       "      <td>False</td>\n",
       "      <td>2017-04-01 00:34:26</td>\n",
       "      <td>4583730746812991</td>\n",
       "      <td>NaN</td>\n",
       "    </tr>\n",
       "    <tr>\n",
       "      <th>4</th>\n",
       "      <td>09dab4969acfc66caab207e4c1f4a004</td>\n",
       "      <td>705398</td>\n",
       "      <td>1.453908e+12</td>\n",
       "      <td>4579180610083018</td>\n",
       "      <td>wesleylambregts@hotmail.com</td>\n",
       "      <td>4.580594e+15</td>\n",
       "      <td>5215</td>\n",
       "      <td>skip</td>\n",
       "      <td>False</td>\n",
       "      <td>2017-04-01 00:34:41</td>\n",
       "      <td>4583745830348136</td>\n",
       "      <td>NaN</td>\n",
       "    </tr>\n",
       "  </tbody>\n",
       "</table>\n",
       "</div>"
      ],
      "text/plain": [
       "                           deviceId  videoId     channelId   deviceSessionId  \\\n",
       "0  eb24cc8baf45eaf321ef6551aa6f06a1   820829  1.453908e+12  4582538345287628   \n",
       "1  09dab4969acfc66caab207e4c1f4a004   505822  1.453908e+12  4579180610083018   \n",
       "2  09dab4969acfc66caab207e4c1f4a004   697511  1.453908e+12  4579180610083018   \n",
       "3  09dab4969acfc66caab207e4c1f4a004   712924  1.453908e+12  4579180610083018   \n",
       "4  09dab4969acfc66caab207e4c1f4a004   705398  1.453908e+12  4579180610083018   \n",
       "\n",
       "                        userId  userSessionId  duration action  isFavorites  \\\n",
       "0                          NaN            NaN    232000   play        False   \n",
       "1  wesleylambregts@hotmail.com   4.580594e+15     14333   skip        False   \n",
       "2  wesleylambregts@hotmail.com   4.580594e+15      5178   skip        False   \n",
       "3  wesleylambregts@hotmail.com   4.580594e+15      7247   skip        False   \n",
       "4  wesleylambregts@hotmail.com   4.580594e+15      5215   skip        False   \n",
       "\n",
       "             timestamp                id  playbackPercentage  \n",
       "0  2017-04-01 00:32:41  4583625468565279                 NaN  \n",
       "1  2017-04-01 00:32:43  4583627245619107                 NaN  \n",
       "2  2017-04-01 00:34:10  4583714238685427                 NaN  \n",
       "3  2017-04-01 00:34:26  4583730746812991                 NaN  \n",
       "4  2017-04-01 00:34:41  4583745830348136                 NaN  "
      ]
     },
     "execution_count": 36,
     "metadata": {},
     "output_type": "execute_result"
    }
   ],
   "source": [
    "action_data = pd.read_csv(\"cleaned_set/action_logs_export_Apr-Dec_2017.csv\", sep = \",\", header = 0)\n",
    "action_data.head(5)"
   ]
  },
  {
   "cell_type": "code",
   "execution_count": 81,
   "metadata": {},
   "outputs": [],
   "source": [
    "like_actions_data = action_data[action_data.action.str.match('.*like.*')]\n",
    "play_actions_data = action_data[action_data.action.str.match('.*play.*')]\n",
    "skip_actions_data = action_data[action_data.action.str.match('.*skip.*')]\n",
    "leave_actions_data = action_data[action_data.action.str.match('.*leave.*')]\n",
    "expire_actions_data = action_data[action_data.action.str.match('.*expired.*')]"
   ]
  },
  {
   "cell_type": "code",
   "execution_count": 82,
   "metadata": {},
   "outputs": [
    {
     "name": "stdout",
     "output_type": "stream",
     "text": [
      "Actions number:  45015151\n",
      "Like action percent:  2.01514374571 %\n",
      "Play action percent:  41.8429586074 %\n",
      "Skip action percent:  55.2561803025 %\n",
      "Leave action percent:  2.89040461066 %\n",
      "Expire action percent:  0.0104564794196 %\n"
     ]
    }
   ],
   "source": [
    "n_actions = action_data.shape[0]\n",
    "n_like_actions = like_actions_data.shape[0]\n",
    "n_skip_actions = skip_actions_data.shape[0]\n",
    "n_play_actions = play_actions_data.shape[0]\n",
    "n_leave_actions = leave_actions_data.shape[0]\n",
    "n_expire_actions = expire_actions_data.shape[0]\n",
    "\n",
    "\n",
    "print 'Actions number: ', n_actions\n",
    "print 'Like action percent: ', (n_like_actions * 100.) / n_actions, '%'\n",
    "print 'Play action percent: ', (n_play_actions * 100.) / n_actions, '%'\n",
    "print 'Skip action percent: ', (n_skip_actions * 100.) / n_actions, '%'\n",
    "print 'Leave action percent: ', (n_leave_actions * 100.) / n_actions, '%'\n",
    "print 'Expire action percent: ', (n_expire_actions * 100.) / n_actions, '%'"
   ]
  },
  {
   "cell_type": "markdown",
   "metadata": {},
   "source": [
    "# Extracting liked videos"
   ]
  },
  {
   "cell_type": "code",
   "execution_count": 179,
   "metadata": {},
   "outputs": [
    {
     "data": {
      "text/plain": [
       "deviceId\n",
       "0000683ee1300afca93e1c27c69adf11/afn59v7uz3g3padj3z72z9zcphqx5ai57hw70u6en3k3aqd70cs77d                                             [870140]\n",
       "0000a7b14c3b429e119b846f750ae0b4/kxjmhvzapi54twcsy1tj2bqcz60qmrakkfuuw35vstkieslbjct4fi                                     [842545, 643496]\n",
       "000374712f8ef6468972dd98b9a10650                                                                                                    [726503]\n",
       "0004b862ee3ba07ba91cfd9318c892bf                                                                                                    [867621]\n",
       "00097d19b4fedd33ea5ed6d4520518d4/mplmycb3c6i7rhpe92bw8l64eum2awzgt7thpv2m5yj7uvyvbo7fr5    [864319, 864200, 863911, 832320, 820829, 86392...\n",
       "Name: videoId, dtype: object"
      ]
     },
     "execution_count": 179,
     "metadata": {},
     "output_type": "execute_result"
    }
   ],
   "source": [
    "grouped = like_actions_data.groupby('deviceId')['videoId'].apply(list)\n",
    "\n",
    "\n",
    "grouped.head(5)"
   ]
  },
  {
   "cell_type": "code",
   "execution_count": 180,
   "metadata": {},
   "outputs": [
    {
     "name": "stdout",
     "output_type": "stream",
     "text": [
      "62346\n",
      "False\n",
      "[864319, 864200, 863911, 832320, 820829, 863928, 840446]\n"
     ]
    }
   ],
   "source": [
    "user_liked_videos = grouped.to_dict()\n",
    "\n",
    "print len(user_liked_videos)\n",
    "print 'eb24cc8baf45eaf321ef6551aa6f06a1' in user_liked_videos\n",
    "\n",
    "print user_liked_videos['00097d19b4fedd33ea5ed6d4520518d4/mplmycb3c6i7rhpe92bw8l64eum2awzgt7thpv2m5yj7uvyvbo7fr5']"
   ]
  },
  {
   "cell_type": "markdown",
   "metadata": {},
   "source": [
    "# Read features"
   ]
  },
  {
   "cell_type": "code",
   "execution_count": 350,
   "metadata": {},
   "outputs": [
    {
     "name": "stdout",
     "output_type": "stream",
     "text": [
      "  deviceId  Pop General  Latin Pop  symphonic rock  post punk\n",
      "0       h2          0.6        0.9            0.30       0.80\n",
      "1       h3          0.1        0.5            0.50       0.30\n",
      "2       h4          0.2        0.9            0.80       0.20\n",
      "3       h5          0.3        0.2            0.90       0.10\n",
      "4       h6          0.9        0.4            0.28       0.55\n",
      "['Pop General' 'Latin Pop' 'symphonic rock' 'post punk']\n"
     ]
    },
    {
     "ename": "ValueError",
     "evalue": "Subgenres in the feature set don't match with the given list, the diff: set(['Alternative Rock', 'Jazz General', 'Dance Pop', 'House', 'Rock General', 'Punk', 'Country General', 'R&B/Soul General', 'EDM', 'Hard Rock/Metal General', 'Blues General', 'Alternative/Indie General', 'Trap', 'Latin General', 'Indie Pop', 'Classic Rock', 'Dancehall', 'Rap/Hip-Hop General', 'Funk'])",
     "output_type": "error",
     "traceback": [
      "\u001b[0;31m---------------------------------------------------------------------------\u001b[0m",
      "\u001b[0;31mValueError\u001b[0m                                Traceback (most recent call last)",
      "\u001b[0;32m<ipython-input-350-5c017d8feb3b>\u001b[0m in \u001b[0;36m<module>\u001b[0;34m()\u001b[0m\n\u001b[1;32m     31\u001b[0m \u001b[0;32mif\u001b[0m\u001b[0;34m(\u001b[0m\u001b[0mset\u001b[0m\u001b[0;34m(\u001b[0m\u001b[0mfeatures_data\u001b[0m\u001b[0;34m.\u001b[0m\u001b[0mcolumns\u001b[0m\u001b[0;34m.\u001b[0m\u001b[0mvalues\u001b[0m\u001b[0;34m)\u001b[0m \u001b[0;34m!=\u001b[0m \u001b[0mvalid_subgenres\u001b[0m\u001b[0;34m)\u001b[0m\u001b[0;34m:\u001b[0m\u001b[0;34m\u001b[0m\u001b[0m\n\u001b[1;32m     32\u001b[0m     \u001b[0mdiff\u001b[0m \u001b[0;34m=\u001b[0m \u001b[0mvalid_subgenres\u001b[0m \u001b[0;34m-\u001b[0m \u001b[0mset\u001b[0m\u001b[0;34m(\u001b[0m\u001b[0mfeatures_data\u001b[0m\u001b[0;34m.\u001b[0m\u001b[0mcolumns\u001b[0m\u001b[0;34m.\u001b[0m\u001b[0mvalues\u001b[0m\u001b[0;34m)\u001b[0m\u001b[0;34m\u001b[0m\u001b[0m\n\u001b[0;32m---> 33\u001b[0;31m     \u001b[0;32mraise\u001b[0m \u001b[0mValueError\u001b[0m\u001b[0;34m(\u001b[0m\u001b[0;34m\"Subgenres in the feature set don't match with the given list, the diff: \"\u001b[0m \u001b[0;34m+\u001b[0m \u001b[0mstr\u001b[0m\u001b[0;34m(\u001b[0m\u001b[0mdiff\u001b[0m\u001b[0;34m)\u001b[0m\u001b[0;34m)\u001b[0m\u001b[0;34m\u001b[0m\u001b[0m\n\u001b[0m\u001b[1;32m     34\u001b[0m \u001b[0;34m\u001b[0m\u001b[0m\n\u001b[1;32m     35\u001b[0m \u001b[0mindex_to_device_id\u001b[0m \u001b[0;34m=\u001b[0m \u001b[0mfeatures_data\u001b[0m\u001b[0;34m.\u001b[0m\u001b[0mdeviceId\u001b[0m\u001b[0;34m.\u001b[0m\u001b[0mto_dict\u001b[0m\u001b[0;34m(\u001b[0m\u001b[0;34m)\u001b[0m\u001b[0;34m\u001b[0m\u001b[0m\n",
      "\u001b[0;31mValueError\u001b[0m: Subgenres in the feature set don't match with the given list, the diff: set(['Alternative Rock', 'Jazz General', 'Dance Pop', 'House', 'Rock General', 'Punk', 'Country General', 'R&B/Soul General', 'EDM', 'Hard Rock/Metal General', 'Blues General', 'Alternative/Indie General', 'Trap', 'Latin General', 'Indie Pop', 'Classic Rock', 'Dancehall', 'Rap/Hip-Hop General', 'Funk'])"
     ]
    }
   ],
   "source": [
    "valid_subgenres = set([\n",
    "    'Alternative Rock',\n",
    "    'Alternative/Indie General',\n",
    "    'Blues General',\n",
    "    'Classic Rock',\n",
    "    'Country General',\n",
    "    'Dancehall',\n",
    "    'Dance Pop',\n",
    "    'EDM',\n",
    "    'Funk', \n",
    "    'Hard Rock/Metal General',\n",
    "    'House',\n",
    "    'Indie Pop',\n",
    "    'Jazz General',\n",
    "    'Latin General',\n",
    "    'Pop General',\n",
    "    'Punk',\n",
    "    'R&B/Soul General',\n",
    "    'Rap/Hip-Hop General',\n",
    "    'Rock General',\n",
    "    'Trap'\n",
    "])\n",
    "\n",
    "features_data = pd.read_csv(\"subgenre_features.csv\", sep = \",\", header = 0)\n",
    "print features_data.head(5)\n",
    "\n",
    "subgenre_list = features_data.columns.values[1:]\n",
    "print subgenre_list\n"
   ]
  },
  {
   "cell_type": "code",
   "execution_count": null,
   "metadata": {},
   "outputs": [],
   "source": [
    "if(set(features_data.columns.values) != valid_subgenres):\n",
    "    diff = valid_subgenres - set(features_data.columns.values)\n",
    "    raise ValueError(\"Subgenres in the feature set don't match with the given list, the diff: \" + str(diff))\n",
    "\n",
    "index_to_device_id = features_data.deviceId.to_dict()\n",
    "\n",
    "X = features_data.drop('deviceId', axis=1)\n",
    "print X.head(5)"
   ]
  },
  {
   "cell_type": "code",
   "execution_count": 243,
   "metadata": {},
   "outputs": [],
   "source": []
  },
  {
   "cell_type": "markdown",
   "metadata": {},
   "source": [
    "# Optimal number of clusters"
   ]
  },
  {
   "cell_type": "code",
   "execution_count": 353,
   "metadata": {},
   "outputs": [
    {
     "data": {
      "text/plain": [
       "<matplotlib.text.Text at 0x1219bc590>"
      ]
     },
     "execution_count": 353,
     "metadata": {},
     "output_type": "execute_result"
    },
    {
     "data": {
      "image/png": "[encoded data removed]",
      "text/plain": [
       "<matplotlib.figure.Figure at 0x11695bf50>"
      ]
     },
     "metadata": {},
     "output_type": "display_data"
    }
   ],
   "source": [
    "from sklearn.mixture import GaussianMixture\n",
    "n_components = np.arange(1, 12)\n",
    "\n",
    "models = [GaussianMixture(n, covariance_type = 'full', random_state = 0).fit(X) for n in n_components]\n",
    "\n",
    "plt.plot(n_components, [m.bic(X) for m in models], label = 'BIC')\n",
    "plt.plot(n_components, [m.aic(X) for m in models], label = 'AIC')\n",
    "\n",
    "plt.legend(loc = 'best')\n",
    "plt.xlabel('n_components')"
   ]
  },
  {
   "cell_type": "markdown",
   "metadata": {},
   "source": [
    "# K-Means"
   ]
  },
  {
   "cell_type": "code",
   "execution_count": 354,
   "metadata": {},
   "outputs": [
    {
     "name": "stdout",
     "output_type": "stream",
     "text": [
      "[[ 0.6         0.9         0.3         0.8       ]\n",
      " [ 0.3         0.2         0.9         0.1       ]\n",
      " [ 0.3         0.9         0.75        0.35      ]\n",
      " [ 0.76666667  0.41        0.36        0.58333333]\n",
      " [ 0.3         0.1         0.8         0.4       ]\n",
      " [ 0.45        0.775       0.55        0.055     ]\n",
      " [ 0.1         0.5         0.5         0.3       ]]\n",
      "kmeans:  KMeans(algorithm='auto', copy_x=True, init='k-means++', max_iter=300,\n",
      "    n_clusters=7, n_init=10, n_jobs=1, precompute_distances='auto',\n",
      "    random_state=0, tol=0.0001, verbose=0)\n",
      "Labels:  [0 6 2 1 3 3 3 5 5 2 4 4 4]\n",
      "Predict:  [0 6 2 1 3 3 3 5 5 2 4 4 4]\n"
     ]
    }
   ],
   "source": [
    "n_clusters = 7\n",
    "\n",
    "kmeans = KMeans(n_clusters=n_clusters, random_state=0).fit(X)\n",
    "centers = kmeans.cluster_centers_\n",
    "\n",
    "print centers\n",
    "\n",
    "print 'kmeans: ', kmeans\n",
    "print 'Labels: ', kmeans.labels_\n",
    "print 'Predict: ', kmeans.predict(X)\n",
    "\n",
    "\n"
   ]
  },
  {
   "cell_type": "markdown",
   "metadata": {},
   "source": [
    "# Generating cluster top-n videos"
   ]
  },
  {
   "cell_type": "code",
   "execution_count": 355,
   "metadata": {},
   "outputs": [
    {
     "name": "stdout",
     "output_type": "stream",
     "text": [
      "0 []\n",
      "1 []\n",
      "2 []\n",
      "3 []\n",
      "4 []\n",
      "5 []\n",
      "6 []\n"
     ]
    }
   ],
   "source": [
    "import collections\n",
    "\n",
    "\n",
    "def cluster_device_ids(cluster):\n",
    "    user_indexes = np.where(kmeans.labels_ == cluster)[0]\n",
    "    return [index_to_device_id[i] for i in user_indexes]\n",
    "\n",
    "\n",
    "def liked_videos_list(deviceIds):\n",
    "    concat_liked = []\n",
    "    for deviceId in deviceIds:\n",
    "        if deviceId in user_liked_videos:\n",
    "            concat_liked += user_liked_videos[deviceId]\n",
    "    return concat_liked\n",
    "    \n",
    "    \n",
    "def cluster_liked_videos(cluster):        \n",
    "    deviceIds = cluster_device_ids(cluster)\n",
    "    cluster_liked = liked_videos_list(deviceIds)\n",
    "    counted = collections.Counter(cluster_liked)\n",
    "    return counted.most_common(len(counted))\n",
    "\n",
    "\n",
    "def generateTopN(cluster, N):\n",
    "    videos = cluster_liked_videos(cluster)\n",
    "    return videos[:N]\n",
    "\n",
    "for cluster in range(n_clusters):\n",
    "        print cluster, generateTopN(cluster, 2)"
   ]
  },
  {
   "cell_type": "markdown",
   "metadata": {},
   "source": [
    "# Prediction"
   ]
  },
  {
   "cell_type": "code",
   "execution_count": 356,
   "metadata": {},
   "outputs": [],
   "source": [
    "user_liked_videos = [838428, 872756, 3]"
   ]
  },
  {
   "cell_type": "code",
   "execution_count": 383,
   "metadata": {},
   "outputs": [
    {
     "name": "stdout",
     "output_type": "stream",
     "text": [
      "Subgenre list:\n",
      "['Pop General' 'Latin Pop' 'symphonic rock' 'post punk']\n",
      "User vector:\n",
      "[ 1.  1.  0.  0.]\n",
      "User liked subgenres:\n",
      "set(['Pop General', 'Flamenco Pop', 'Latin Pop'])\n",
      "(13, 4)\n",
      "Predict\n",
      "[5]\n",
      "[]\n"
     ]
    }
   ],
   "source": [
    "def video_subgenres(video_id):\n",
    "    video_subgenres = video_data[video_data['Xid'] == video_id].Subgenres_list.values\n",
    "    if video_subgenres.size == 0:\n",
    "        return set()\n",
    "    else:\n",
    "        sgs = [s.strip(\"''\") for s in video_subgenres[0].strip(\"[]\").split(\", \")]\n",
    "        return set(sgs)\n",
    "\n",
    "\n",
    "def user_subgenres(liked_videos):  \n",
    "    subgenres = set()\n",
    "    for video_id in liked_videos:\n",
    "        subgenres = subgenres.union(video_subgenres(video_id))\n",
    "    return subgenres\n",
    "  \n",
    "    \n",
    "def user_vector(slist, sliked):\n",
    "    vector = np.zeros(len(slist))\n",
    "    for (index, subgenre) in enumerate(slist):\n",
    "        if(subgenre in sliked):\n",
    "            vector[index] = 1\n",
    "    return vector\n",
    "\n",
    "\n",
    "def normalize_vector(user_vector):\n",
    "    n = np.count_nonzero(user_vector)\n",
    "    return [d / n for d in user_vector]\n",
    "\n",
    "print 'Subgenre list:'\n",
    "print subgenre_list  \n",
    "\n",
    "print 'User vector:'\n",
    "vector = user_vector(subgenre_list, user_liked_subgenres)\n",
    "print vector\n",
    "\n",
    "print 'User liked subgenres:'\n",
    "print user_liked_subgenres\n",
    "\n",
    "\n",
    "normalized_vector = np.array(normalize_vector(vector)).reshape(1, -1)\n",
    "cluster = kmeans.predict(normalized_vector)\n",
    "\n",
    "topN = generateTopN(cluster, 10)\n",
    "\n",
    "print 'Predict'\n",
    "print cluster\n",
    "print topN\n"
   ]
  },
  {
   "cell_type": "code",
   "execution_count": null,
   "metadata": {},
   "outputs": [],
   "source": []
  }
 ],
 "metadata": {
  "kernelspec": {
   "display_name": "Python 2",
   "language": "python",
   "name": "python2"
  },
  "language_info": {
   "codemirror_mode": {
    "name": "ipython",
    "version": 2
   },
   "file_extension": ".py",
   "mimetype": "text/x-python",
   "name": "python",
   "nbconvert_exporter": "python",
   "pygments_lexer": "ipython2",
   "version": "2.7.10"
  }
 },
 "nbformat": 4,
 "nbformat_minor": 2
}
